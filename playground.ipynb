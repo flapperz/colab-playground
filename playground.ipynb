{
  "nbformat": 4,
  "nbformat_minor": 0,
  "metadata": {
    "orig_nbformat": 2,
    "colab": {
      "name": "playground.ipynb",
      "provenance": [],
      "toc_visible": true
    },
    "kernelspec": {
      "name": "python3",
      "display_name": "Python 3"
    }
  },
  "cells": [
    {
      "cell_type": "markdown",
      "metadata": {
        "id": "cBolUTBByrrs"
      },
      "source": [
        "# Playground"
      ]
    },
    {
      "cell_type": "markdown",
      "metadata": {
        "id": "t6-SUBQdyx1E"
      },
      "source": [
        "## Console"
      ]
    },
    {
      "cell_type": "code",
      "metadata": {
        "id": "9tWAD6LkzfF_"
      },
      "source": [
        "!pip install kora\r\n",
        "from kora import console"
      ],
      "execution_count": null,
      "outputs": []
    },
    {
      "cell_type": "code",
      "metadata": {
        "id": "ryE7m_5EzD72",
        "outputId": "d24f08c2-2605-44de-83a7-363c49b8baea",
        "colab": {
          "base_uri": "https://localhost:8080/"
        }
      },
      "source": [
        "console.start()"
      ],
      "execution_count": 3,
      "outputs": [
        {
          "output_type": "stream",
          "text": [
            "Console URL: https://teleconsole.com/s/d88146dab91101c6d0a50ce73cbbb26b85c25535\n"
          ],
          "name": "stdout"
        }
      ]
    },
    {
      "cell_type": "code",
      "metadata": {
        "id": "1CIcRuxYz44z"
      },
      "source": [
        ""
      ],
      "execution_count": null,
      "outputs": []
    }
  ]
}